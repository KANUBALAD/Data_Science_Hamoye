{
 "cells": [
  {
   "cell_type": "code",
   "execution_count": 86,
   "metadata": {},
   "outputs": [],
   "source": [
    "import pandas as pd\n",
    "import numpy as np \n",
    "import matplotlib.pyplot as plt\n",
    "import seaborn as sns\n",
    "from sklearn.preprocessing import MinMaxScaler\n",
    "from sklearn.model_selection import train_test_split\n",
    "from sklearn.linear_model import LinearRegression\n",
    "from sklearn.metrics import r2_score\n",
    "from sklearn.metrics import mean_absolute_error\n",
    "from sklearn.metrics import mean_squared_error\n",
    "from sklearn.linear_model import Ridge\n"
   ]
  },
  {
   "cell_type": "markdown",
   "metadata": {},
   "source": [
    "Import data using pandas"
   ]
  },
  {
   "cell_type": "code",
   "execution_count": 62,
   "metadata": {},
   "outputs": [],
   "source": [
    "data = pd.read_csv(\"data.csv\")"
   ]
  },
  {
   "cell_type": "markdown",
   "metadata": {},
   "source": [
    "Normalize the entire dataset using MinMaxScaler in sklearn excluding date and light columns"
   ]
  },
  {
   "cell_type": "code",
   "execution_count": 63,
   "metadata": {},
   "outputs": [],
   "source": [
    "scaler = MinMaxScaler()\n",
    "df = data.drop(columns=[\"date\", \"lights\"] )\n",
    "normalised_data = pd.DataFrame(scaler.fit_transform(df), columns=df.columns)\n",
    "#features_data = normalised_data.drop(columns = [\"date\", \"lights\"])"
   ]
  },
  {
   "cell_type": "markdown",
   "metadata": {},
   "source": [
    "### Question  12:\n",
    "\n",
    "In this question, we need to build a simple linear regression using T2 as the independent variables with T6 as our target(dependent variable). Afterwards,the data set was split inot $70:30$ ratio for train and test respectively with a random state of $42$"
   ]
  },
  {
   "cell_type": "code",
   "execution_count": 35,
   "metadata": {},
   "outputs": [],
   "source": [
    "X= normalised_data['T2'].values.reshape(-1, 1)\n",
    "y= normalised_data[\"T6\"].values.reshape(-1, 1)\n",
    "\n",
    "X_train, X_test, y_train, y_test = train_test_split(X, y,\n",
    "test_size= 0.3 , random_state= 42)"
   ]
  },
  {
   "cell_type": "markdown",
   "metadata": {},
   "source": [
    "Next step, call the linear regression model and fit on the train data (X_train and y_train)"
   ]
  },
  {
   "cell_type": "code",
   "execution_count": 37,
   "metadata": {},
   "outputs": [],
   "source": [
    "regressor = LinearRegression()  \n",
    "model = regressor.fit(X_train, y_train)"
   ]
  },
  {
   "cell_type": "markdown",
   "metadata": {},
   "source": [
    "Use model now to make predictions on the test data and compare the values with its y_test values"
   ]
  },
  {
   "cell_type": "code",
   "execution_count": 41,
   "metadata": {},
   "outputs": [],
   "source": [
    "predictions = model.predict(X_test)"
   ]
  },
  {
   "cell_type": "markdown",
   "metadata": {},
   "source": [
    "### Question 12:\n",
    "Calculate the R2 squared"
   ]
  },
  {
   "cell_type": "code",
   "execution_count": 47,
   "metadata": {
    "scrolled": true
   },
   "outputs": [
    {
     "name": "stdout",
     "output_type": "stream",
     "text": [
      "The R2 squared value is 0.64\n"
     ]
    }
   ],
   "source": [
    "print(\"The R2 squared value is {:.2f}\".format(r2_score(y_test, predictions)))\n"
   ]
  },
  {
   "cell_type": "markdown",
   "metadata": {},
   "source": [
    "### Question 13:\n",
    "Calculate the Mean Absolute Error"
   ]
  },
  {
   "cell_type": "code",
   "execution_count": 82,
   "metadata": {},
   "outputs": [
    {
     "name": "stdout",
     "output_type": "stream",
     "text": [
      "The mean absolute error value is 0.33\n"
     ]
    }
   ],
   "source": [
    "print(\"The mean absolute error value is {:.2f}\".format(mean_absolute_error(y_test, predictions)))\n"
   ]
  },
  {
   "cell_type": "markdown",
   "metadata": {},
   "source": [
    "### Question 14:\n",
    "Calculate the Residual Sum of Squares"
   ]
  },
  {
   "cell_type": "code",
   "execution_count": 54,
   "metadata": {
    "scrolled": true
   },
   "outputs": [
    {
     "name": "stdout",
     "output_type": "stream",
     "text": [
      "The Residual Sum of Squares value is 66.12\n"
     ]
    }
   ],
   "source": [
    "rss = np.sum(np.square(y_test - predictions))\n",
    "print(\"The Residual Sum of Squares value is {:.2f}\".format(rss))\n"
   ]
  },
  {
   "cell_type": "markdown",
   "metadata": {},
   "source": [
    "### Question 15:\n",
    "Calculate Root Mean Squared Error \n"
   ]
  },
  {
   "cell_type": "code",
   "execution_count": 56,
   "metadata": {},
   "outputs": [
    {
     "name": "stdout",
     "output_type": "stream",
     "text": [
      "The Residual Sum of Squares value is 0.106\n"
     ]
    }
   ],
   "source": [
    "print(\"The Root Mean Squared Error value is {:.3f}\".format(np.sqrt(mean_squared_error(y_test, predictions))))\n"
   ]
  },
  {
   "cell_type": "markdown",
   "metadata": {},
   "source": [
    "### Question 16:\n",
    "Calculate  Coefficient of Determination: This is another name for the $R^{2}$ and which we already calculated above\n"
   ]
  },
  {
   "cell_type": "code",
   "execution_count": 57,
   "metadata": {
    "scrolled": true
   },
   "outputs": [
    {
     "name": "stdout",
     "output_type": "stream",
     "text": [
      "The Coefficient of Determination: value is 66.12\n"
     ]
    }
   ],
   "source": [
    "print(\"The Coefficient of Determination: value is {:.2f}\".format(rss))\n"
   ]
  },
  {
   "cell_type": "markdown",
   "metadata": {},
   "source": [
    "### Question 17"
   ]
  },
  {
   "cell_type": "code",
   "execution_count": 77,
   "metadata": {},
   "outputs": [],
   "source": [
    "X= normalised_data.iloc[:, 1:]#.values#.reshape(-1, 1)\n",
    "y= normalised_data[\"Appliances\"]#.values.reshape(-1, 1)\n",
    "\n",
    "X_train, X_test, y_train, y_test = train_test_split(X, y,\n",
    "test_size= 0.3 , random_state= 42)"
   ]
  },
  {
   "cell_type": "code",
   "execution_count": 78,
   "metadata": {},
   "outputs": [],
   "source": [
    "regressor = LinearRegression()  \n",
    "model = regressor.fit(X_train, y_train)"
   ]
  },
  {
   "cell_type": "code",
   "execution_count": 83,
   "metadata": {},
   "outputs": [
    {
     "name": "stdout",
     "output_type": "stream",
     "text": [
      "The Root Mean Squared Error value is 0.088\n"
     ]
    }
   ],
   "source": [
    "pred= model.predict(X_test)\n",
    "print(\"The Root Mean Squared Error value is {:.3f}\".format(np.sqrt(mean_squared_error(y_test, pred))))\n"
   ]
  },
  {
   "cell_type": "code",
   "execution_count": 80,
   "metadata": {},
   "outputs": [],
   "source": [
    "def get_weights_df(model, feat, col_name) :\n",
    "    weights = pd.Series(model.coef_, feat.columns).sort_values()\n",
    "    weights_df = pd.DataFrame(weights).reset_index()\n",
    "    weights_df.columns = [ 'Features' , col_name]\n",
    "    weights_df[col_name].round( 3 )\n",
    "    return weights_df\n",
    "\n",
    "linear_model_weights = get_weights_df(model, X_train, 'Linear_Model_Weight' )\n"
   ]
  },
  {
   "cell_type": "code",
   "execution_count": 81,
   "metadata": {
    "scrolled": true
   },
   "outputs": [
    {
     "name": "stdout",
     "output_type": "stream",
     "text": [
      "       Features  Linear_Model_Weight\n",
      "0          RH_2            -0.456698\n",
      "1         T_out            -0.321860\n",
      "2            T2            -0.236178\n",
      "3            T9            -0.189941\n",
      "4          RH_8            -0.157595\n",
      "5        RH_out            -0.077671\n",
      "6          RH_7            -0.044614\n",
      "7          RH_9            -0.039800\n",
      "8            T5            -0.015657\n",
      "9            T1            -0.003281\n",
      "10          rv2             0.000770\n",
      "11          rv1             0.000770\n",
      "12  Press_mm_hg             0.006839\n",
      "13           T7             0.010319\n",
      "14   Visibility             0.012307\n",
      "15         RH_5             0.016006\n",
      "16         RH_4             0.026386\n",
      "17           T4             0.028981\n",
      "18    Windspeed             0.029183\n",
      "19         RH_6             0.038049\n",
      "20         RH_3             0.096048\n",
      "21           T8             0.101995\n",
      "22    Tdewpoint             0.117758\n",
      "23           T6             0.236425\n",
      "24           T3             0.290627\n",
      "25         RH_1             0.553547\n"
     ]
    }
   ],
   "source": [
    "print(linear_model_weights)"
   ]
  },
  {
   "cell_type": "markdown",
   "metadata": {},
   "source": [
    "### Question 18\n",
    "\n",
    "**Ridge Regression Model**"
   ]
  },
  {
   "cell_type": "code",
   "execution_count": 87,
   "metadata": {},
   "outputs": [
    {
     "name": "stdout",
     "output_type": "stream",
     "text": [
      "The Root Mean Squared Error value is 0.088\n"
     ]
    }
   ],
   "source": [
    "ridge_reg = Ridge(alpha= 0.4)\n",
    "model_ridge= ridge_reg.fit(X_train, y_train)\n",
    "pred_ridge= model_ridge.predict(X_test)\n",
    "\n",
    "\n",
    "print(\"The Root Mean Squared Error value is {:.3f}\".format(np.sqrt(mean_squared_error(y_test, pred_ridge))))\n"
   ]
  },
  {
   "cell_type": "markdown",
   "metadata": {},
   "source": [
    "### Question  19\n",
    "\n",
    "**Lasso Regression**\n"
   ]
  },
  {
   "cell_type": "code",
   "execution_count": 88,
   "metadata": {
    "scrolled": true
   },
   "outputs": [
    {
     "name": "stdout",
     "output_type": "stream",
     "text": [
      "       Features  Model_lasso_Weight\n",
      "0        RH_out           -0.049557\n",
      "1          RH_8           -0.000110\n",
      "2            T1            0.000000\n",
      "3     Tdewpoint            0.000000\n",
      "4    Visibility            0.000000\n",
      "5   Press_mm_hg           -0.000000\n",
      "6         T_out            0.000000\n",
      "7          RH_9           -0.000000\n",
      "8            T9           -0.000000\n",
      "9            T8            0.000000\n",
      "10         RH_7           -0.000000\n",
      "11          rv1           -0.000000\n",
      "12           T7           -0.000000\n",
      "13           T6            0.000000\n",
      "14         RH_5            0.000000\n",
      "15           T5           -0.000000\n",
      "16         RH_4            0.000000\n",
      "17           T4           -0.000000\n",
      "18         RH_3            0.000000\n",
      "19           T3            0.000000\n",
      "20         RH_2           -0.000000\n",
      "21           T2            0.000000\n",
      "22         RH_6           -0.000000\n",
      "23          rv2           -0.000000\n",
      "24    Windspeed            0.002912\n",
      "25         RH_1            0.017880\n"
     ]
    }
   ],
   "source": [
    "from sklearn.linear_model import Lasso\n",
    "lasso_reg = Lasso(alpha=0.001 )\n",
    "model_lasso= lasso_reg.fit(X_train, y_train)\n",
    "linear_model_weights = get_weights_df(model_lasso, X_train, 'Model_lasso_Weight' )\n",
    "print(linear_model_weights)"
   ]
  },
  {
   "cell_type": "markdown",
   "metadata": {},
   "source": [
    "### Question 20:\n",
    "\n",
    "**RMSE**"
   ]
  },
  {
   "cell_type": "code",
   "execution_count": 89,
   "metadata": {},
   "outputs": [
    {
     "name": "stdout",
     "output_type": "stream",
     "text": [
      "The Root Mean Squared Error value is 0.094\n"
     ]
    }
   ],
   "source": [
    "predictions_lasso= model_lasso.predict(X_test)\n",
    "print(\"The Root Mean Squared Error value is {:.3f}\".format(np.sqrt(mean_squared_error(y_test, predictions_lasso))))\n"
   ]
  }
 ],
 "metadata": {
  "kernelspec": {
   "display_name": "Python 3",
   "language": "python",
   "name": "python3"
  },
  "language_info": {
   "codemirror_mode": {
    "name": "ipython",
    "version": 3
   },
   "file_extension": ".py",
   "mimetype": "text/x-python",
   "name": "python",
   "nbconvert_exporter": "python",
   "pygments_lexer": "ipython3",
   "version": "3.7.3"
  }
 },
 "nbformat": 4,
 "nbformat_minor": 2
}
